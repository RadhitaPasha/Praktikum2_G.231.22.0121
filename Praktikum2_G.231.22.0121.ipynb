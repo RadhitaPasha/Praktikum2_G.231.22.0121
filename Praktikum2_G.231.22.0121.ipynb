{
  "nbformat": 4,
  "nbformat_minor": 0,
  "metadata": {
    "colab": {
      "provenance": [],
      "authorship_tag": "ABX9TyMdqflFJu1eInHL+onV90Ru",
      "include_colab_link": true
    },
    "kernelspec": {
      "name": "python3",
      "display_name": "Python 3"
    },
    "language_info": {
      "name": "python"
    }
  },
  "cells": [
    {
      "cell_type": "markdown",
      "metadata": {
        "id": "view-in-github",
        "colab_type": "text"
      },
      "source": [
        "<a href=\"https://colab.research.google.com/github/RadhitaPasha/Praktikum2_G.231.22.0121/blob/main/Praktikum2_G.231.22.0121.ipynb\" target=\"_parent\"><img src=\"https://colab.research.google.com/assets/colab-badge.svg\" alt=\"Open In Colab\"/></a>"
      ]
    },
    {
      "cell_type": "markdown",
      "source": [
        "**Algoritma**"
      ],
      "metadata": {
        "id": "CntwivA9SnnM"
      }
    },
    {
      "cell_type": "code",
      "source": [
        "def selectionSort(alist):\n",
        "  for slot in range(0,len(alist)-1):\n",
        "    position=slot\n",
        "    for location in range(slot+1,len(alist)):\n",
        "      if alist[location]<alist[position]:\n",
        "        position = location"
      ],
      "metadata": {
        "id": "W6CX-09QSq8c"
      },
      "execution_count": 2,
      "outputs": []
    },
    {
      "cell_type": "markdown",
      "source": [
        "**KODE PROGRAM**"
      ],
      "metadata": {
        "id": "k0SSAMiFXzd6"
      }
    },
    {
      "cell_type": "code",
      "source": [
        "def selectionSort(data):\n",
        "  for slot in range(0,len(data)-1):\n",
        "    position = slot\n",
        "    for location in range(slot+1,len(data)):\n",
        "      if data[location]<data[position]:\n",
        "        position = location\n",
        "\n",
        "    temp = data[slot]\n",
        "    data[slot] = data[position]\n",
        "    data[position] = temp\n",
        "    print(data)\n",
        "angka = [4,8,6,5,3]\n",
        "print(angka)\n",
        "selectionSort(angka)\n"
      ],
      "metadata": {
        "colab": {
          "base_uri": "https://localhost:8080/"
        },
        "id": "ntiR33DqWVw_",
        "outputId": "883c5805-2eed-4042-92b6-bcb147aab8ff"
      },
      "execution_count": 18,
      "outputs": [
        {
          "output_type": "stream",
          "name": "stdout",
          "text": [
            "[4, 8, 6, 5, 3]\n",
            "[3, 8, 6, 5, 4]\n",
            "[3, 4, 6, 5, 8]\n",
            "[3, 4, 5, 6, 8]\n",
            "[3, 4, 5, 6, 8]\n"
          ]
        }
      ]
    },
    {
      "cell_type": "markdown",
      "source": [
        "**Membuat Data Tuple dengan tampilan akhir nilai minimal dari data tuple tersebut**"
      ],
      "metadata": {
        "id": "HCsA0p6x0pRz"
      }
    },
    {
      "cell_type": "code",
      "source": [
        "tup1 = ('Nama : Dina','Umur : 7 tahun','Nama : Rudi','Umur : 8 tahun','Nama : Kenzie','Umur : 10 tahun')\n",
        "tup_ganjil = (1,3,5,7,9)\n",
        "print(tup1)\n",
        "print(tup_ganjil)\n",
        "#mencari nilai minimal pada tup_ganjil\n",
        "print(min(tup_ganjil))\n",
        "#mencari nilai minimal pada tup1\n",
        "print(min(tup1))"
      ],
      "metadata": {
        "colab": {
          "base_uri": "https://localhost:8080/"
        },
        "id": "WwK9WlPtzE2W",
        "outputId": "8b3bfa9d-ab1d-4e95-ba26-4cb1e346a04f"
      },
      "execution_count": null,
      "outputs": [
        {
          "output_type": "stream",
          "name": "stdout",
          "text": [
            "('Nama : Dina', 'Umur : 7 tahun', 'Nama : Rudi', 'Umur : 8 tahun', 'Nama : Kenzie', 'Umur : 10 tahun')\n",
            "(1, 3, 5, 7, 9)\n",
            "1\n",
            "Nama : Dina\n"
          ]
        }
      ]
    },
    {
      "cell_type": "markdown",
      "source": [
        "**Membuat Data Dictionary**"
      ],
      "metadata": {
        "id": "t9beHcY01IjK"
      }
    },
    {
      "cell_type": "code",
      "source": [
        "Data_Mobil = {'Nama Mobil': 'Avanza','Merk': 'Toyota', 'Produk': 'Jepang' }\n",
        "print(Data_Mobil)\n",
        "print(\"Data_Mobil['Nama Mobil']: \", Data_Mobil['Nama Mobil'])\n",
        "#hasil banyaknya data pada Data_Mobil\n",
        "len(Data_Mobil)"
      ],
      "metadata": {
        "colab": {
          "base_uri": "https://localhost:8080/"
        },
        "id": "D6TBmAPc1Ruj",
        "outputId": "11984a73-f2ff-4fa4-cddd-1de0b92ee792"
      },
      "execution_count": null,
      "outputs": [
        {
          "output_type": "stream",
          "name": "stdout",
          "text": [
            "{'Nama Mobil': 'Avanza', 'Merk': 'Toyota', 'Produk': 'Jepang'}\n",
            "Data_Mobil['Nama Mobil']:  Avanza\n"
          ]
        },
        {
          "output_type": "execute_result",
          "data": {
            "text/plain": [
              "3"
            ]
          },
          "metadata": {},
          "execution_count": 19
        }
      ]
    }
  ]
}